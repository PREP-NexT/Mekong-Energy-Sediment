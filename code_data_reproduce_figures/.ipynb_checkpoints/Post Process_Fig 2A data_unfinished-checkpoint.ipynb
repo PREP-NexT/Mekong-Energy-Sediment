{
 "cells": [
  {
   "cell_type": "code",
   "execution_count": 1,
   "id": "e20ccc7e",
   "metadata": {},
   "outputs": [],
   "source": [
    "import xarray as xr\n",
    "import pandas as pd\n",
    "import matplotlib.pyplot as plt\n",
    "import numpy as np\n",
    "import os"
   ]
  },
  {
   "cell_type": "code",
   "execution_count": 2,
   "id": "174d3f92",
   "metadata": {},
   "outputs": [],
   "source": [
    "\n",
    "#读取输出文件 nonAD\n",
    "output_file_path_uncertainty = '../output/Results/uncertainty'\n",
    "file_names_LP_uncertainty = os.listdir(output_file_path_uncertainty)\n",
    "import pandas as pd\n",
    "\n",
    "# Define file path and sheet number\n",
    "file_path = \"./uncertainty_all_scenarios.xlsx\"\n",
    "sheet_num = 0  # Sheet index\n",
    "\n",
    "# Read the Excel file\n",
    "df = pd.read_excel(file_path, sheet_name=sheet_num,index_col=0)\n",
    "\n",
    "\n",
    "\n"
   ]
  },
  {
   "cell_type": "code",
   "execution_count": 4,
   "id": "8b592144",
   "metadata": {},
   "outputs": [
    {
     "name": "stdout",
     "output_type": "stream",
     "text": [
      "729\n",
      "729\n"
     ]
    }
   ],
   "source": [
    "# Define the values to search for\n",
    "target_values = ['solution_F0_2.xlsx']\n",
    "\n",
    "# Find the indices of matching rows\n",
    "matching_indices_F0_2 = df[df['carbon'].isin(target_values)& (df['discount factor'] == 'discount factor medium.xlsx')].index\n",
    "\n",
    "# Print or use the indices\n",
    "print(len(matching_indices_F0_2))\n",
    "\n",
    "# Define the file pattern\n",
    "file_prefix = \"mekong_2020_288h_4_years_AD110dams__\"\n",
    "file_extension = \".nc\"\n",
    "\n",
    "# Convert matching_indices to string format\n",
    "matching_indices_F0_2 = [str(idx) for idx in matching_indices_F0_2]\n",
    "\n",
    "# Find matching files\n",
    "matching_files_F0_2 = [\n",
    "    file for file in file_names_LP_uncertainty\n",
    "    if file.startswith(file_prefix) and file.endswith(file_extension) and \n",
    "    file[len(file_prefix):-len(file_extension)] in matching_indices_F0_2\n",
    "]\n",
    "\n",
    "# Print or use the matching files\n",
    "print(len(matching_files_F0_2))\n",
    "\n",
    "# Initialize dictionaries to store values\n",
    "cost_dict_F0_2 = {}\n",
    "\n",
    "\n",
    "# Loop through each matching file\n",
    "for file in matching_files_F0_2:  # FIXED HERE\n",
    "    file_path = os.path.join(output_file_path_uncertainty, file)  # Construct full file path\n",
    "    \n",
    "    # Open the dataset\n",
    "    with xr.open_dataset(file_path) as data:\n",
    "        # Extract the required variables\n",
    "        cost_dict_F0_2[file] = data.cost_v.item() / 1e9  # Convert cost to billion units"
   ]
  },
  {
   "cell_type": "code",
   "execution_count": null,
   "id": "15e2489c",
   "metadata": {},
   "outputs": [],
   "source": []
  }
 ],
 "metadata": {
  "kernelspec": {
   "display_name": "energy",
   "language": "python",
   "name": "energy"
  },
  "language_info": {
   "codemirror_mode": {
    "name": "ipython",
    "version": 3
   },
   "file_extension": ".py",
   "mimetype": "text/x-python",
   "name": "python",
   "nbconvert_exporter": "python",
   "pygments_lexer": "ipython3",
   "version": "3.10.4"
  }
 },
 "nbformat": 4,
 "nbformat_minor": 5
}
