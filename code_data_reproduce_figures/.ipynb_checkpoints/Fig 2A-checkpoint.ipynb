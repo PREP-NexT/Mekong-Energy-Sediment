{
 "cells": [
  {
   "cell_type": "code",
   "execution_count": 11,
   "id": "ae3c1c17",
   "metadata": {},
   "outputs": [],
   "source": [
    "import pandas as pd\n",
    "import netCDF4 as nc\n",
    "import matplotlib.pyplot as plt\n",
    "import matplotlib"
   ]
  },
  {
   "cell_type": "code",
   "execution_count": 12,
   "id": "b146ebc5",
   "metadata": {},
   "outputs": [],
   "source": [
    "# SET UP PLOT PARAMETERS\n",
    "\n",
    "font_size = 7\n",
    "params = {\n",
    "    'axes.labelsize': font_size,\n",
    "    'grid.linewidth': 0.2,\n",
    "    'font.size': font_size,\n",
    "    'legend.fontsize': font_size,\n",
    "    'legend.frameon': False,\n",
    "    'xtick.labelsize': font_size,\n",
    "    'xtick.direction': 'out',\n",
    "    'ytick.labelsize': font_size,\n",
    "    'ytick.direction': 'out',\n",
    "    'savefig.bbox': 'tight',\n",
    "    'axes.titlesize': font_size,\n",
    "    'font.family': 'Myriad Pro'\n",
    "}\n",
    "plt.rcParams.update(params)"
   ]
  },
  {
   "cell_type": "code",
   "execution_count": 13,
   "id": "df598874",
   "metadata": {},
   "outputs": [],
   "source": [
    "# LOAD DAM DATA AND COLOR MAPPINGS\n",
    "\n",
    "# Read dam database and sequencing information\n",
    "df_static = pd.read_csv('./input/Dam_database_nobuilt_AD.csv', index_col=0)\n",
    "sequence = pd.read_csv('./input/sequence_dam_number_AD_GHG1_limit6.csv', index_col=0)\n",
    "\n",
    "# Define country colors\n",
    "colors = {'CHN': '#00338D', 'KHM': '#6D2077', 'LAO': '#00A3A1', 'VNM': '#FECD33'}\n",
    "\n",
    "# Prepare color lists for visualization\n",
    "colors_bar = []\n",
    "colors_scatter = []\n",
    "for i in range(48):\n",
    "    SUB = int(sequence.loc[i])\n",
    "    country = df_static.loc[df_static['SUB'] == SUB, 'Country'].values[0]\n",
    "    colors_bar.append(colors[country])\n",
    "    colors_scatter.append(colors[country])\n",
    "\n",
    "# Reverse color lists and add white for the last point\n",
    "colors_scatter_rev = colors_scatter[::-1] + [\"white\"]"
   ]
  },
  {
   "cell_type": "code",
   "execution_count": 14,
   "id": "0c238fc3",
   "metadata": {},
   "outputs": [],
   "source": [
    "# LOAD OPTIMIZATION RESULTS FROM NC\n",
    "\n",
    "# Initialize dictionaries to store results\n",
    "sediment = {}\n",
    "cost = {}\n",
    "\n",
    "# Read netCDF file with optimization results\n",
    "with nc.Dataset('./output/Optimization results_Fig 2A.nc', 'r') as ds:\n",
    "    n_scenarios = len(ds.dimensions['scenario'])\n",
    "    \n",
    "    for i in range(n_scenarios):\n",
    "        # Extract scenario identifiers\n",
    "        ghg_str = ''.join(ghb.decode('utf-8') for ghb in ds['GHG_limit'][i]).strip()\n",
    "        trans_str = ''.join(trb.decode('utf-8') for trb in ds['trans_limit'][i]).strip()\n",
    "        number = int(ds['number'][i])\n",
    "        \n",
    "        # Create dictionary key and store values\n",
    "        key = (ghg_str, trans_str, number)\n",
    "        cost[key] = float(ds['cost_v'][i])\n",
    "        sediment[key] = float(ds['sediment_v'][i])"
   ]
  },
  {
   "cell_type": "code",
   "execution_count": 15,
   "id": "a6676fe2",
   "metadata": {},
   "outputs": [
    {
     "data": {
      "image/png": "[encoded data removed]",
      "text/plain": [
       "<Figure size 212.598x311.811 with 1 Axes>"
      ]
     },
     "metadata": {
      "needs_background": "light"
     },
     "output_type": "display_data"
    }
   ],
   "source": [
    "# PREPARE DATA FOR VISUALIZATION\n",
    "%matplotlib inline\n",
    "# Extract values for GHG1/limit6 scenarios\n",
    "sediment_obj = [sediment[('GHG1', 'limit6', j)] for j in range(49)]\n",
    "cost_obj = [cost[('GHG1', 'limit6', j)] for j in range(49)]\n",
    "\n",
    "# Sort by cost (ascending)\n",
    "sorted_indices = sorted(range(len(cost_obj)), key=lambda k: cost_obj[k])\n",
    "x_sorted = [cost_obj[i] for i in sorted_indices]\n",
    "y_sorted = [sediment_obj[i] for i in sorted_indices]\n",
    "\n",
    "# Calculate cost savings relative to the highest cost\n",
    "cost_savings = [x_sorted[-1] - cs for cs in x_sorted]\n",
    "\n",
    "# ===================================\n",
    "# CREATE THE PLOT\n",
    "# ===================================\n",
    "fig, ax = plt.subplots(1, 1, figsize=(75/25.4, 110/25.4))\n",
    "\n",
    "# Plot the curve and points\n",
    "\n",
    "ax.plot(x_sorted, y_sorted, color='black', linestyle='-', linewidth=1, zorder=1)\n",
    "scatter = ax.scatter(\n",
    "    x_sorted, y_sorted, s=20, \n",
    "    c=colors_scatter_rev, linewidths=0.3, \n",
    "    edgecolors='black', zorder=2\n",
    ")\n",
    "\n",
    "# Configure axes and spines\n",
    "ax.spines['right'].set_visible(False)\n",
    "ax.spines['top'].set_visible(False)\n",
    "ax.set_xlim(520, 460)  # Reverse direction (higher costs on left)\n",
    "ax.set_ylim(0, 60)\n",
    "\n",
    "# Add reference line at 95% of max sediment\n",
    "ax.axhline(y=54.8 * 0.95, color='dimgray', linestyle='--', linewidth=0.5, dashes=(4, 2))\n",
    "\n",
    "# ===================================\n",
    "# CONFIGURE SECONDARY X-AXIS (COST SAVINGS)\n",
    "# ===================================\n",
    "# Setup for cost savings axis (bottom)\n",
    "original_cost = cost[('GHG1', 'limit6', 0)]\n",
    "sec_x_ticks = [original_cost - 50, original_cost - 40, \n",
    "               original_cost - 30, original_cost - 20, \n",
    "               original_cost - 10, original_cost]\n",
    "set_x_tick_labels = [50, 40, 30, 20, 10, 0]\n",
    "\n",
    "# Create secondary axis\n",
    "secax = ax.secondary_xaxis('bottom')\n",
    "secax.set_xlim(ax.get_xlim())\n",
    "secax.set_xticks(sec_x_ticks)\n",
    "secax.set_xticklabels(set_x_tick_labels)\n",
    "secax.spines['bottom'].set_position(('outward', 40))\n",
    "\n",
    "# ===================================\n",
    "# SAVE AND SHOW THE FIGURE\n",
    "# ===================================\n",
    "fig.tight_layout()\n",
    "plt.subplots_adjust(left=0.05, bottom=0.1, right=0.95, top=0.9)\n",
    "fig.savefig('Fig 2A.pdf')\n"
   ]
  }
 ],
 "metadata": {
  "kernelspec": {
   "display_name": "energy",
   "language": "python",
   "name": "energy"
  },
  "language_info": {
   "codemirror_mode": {
    "name": "ipython",
    "version": 3
   },
   "file_extension": ".py",
   "mimetype": "text/x-python",
   "name": "python",
   "nbconvert_exporter": "python",
   "pygments_lexer": "ipython3",
   "version": "3.10.4"
  }
 },
 "nbformat": 4,
 "nbformat_minor": 5
}
